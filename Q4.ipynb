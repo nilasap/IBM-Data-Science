{
 "cells": [
  {
   "cell_type": "markdown",
   "id": "89ae96ba-7719-4f8b-9b3a-7a714bc5bc4c",
   "metadata": {},
   "source": [
    "Install necessary libraries if not already installe"
   ]
  },
  {
   "cell_type": "code",
   "execution_count": 2,
   "id": "8aa15506-ca26-44de-9efd-3d802e246e4b",
   "metadata": {},
   "outputs": [
    {
     "name": "stdout",
     "output_type": "stream",
     "text": [
      "Requirement already satisfied: requests in /opt/conda/lib/python3.11/site-packages (2.26.0)\n",
      "Requirement already satisfied: beautifulsoup4 in /opt/conda/lib/python3.11/site-packages (4.12.3)\n",
      "Requirement already satisfied: pandas in /opt/conda/lib/python3.11/site-packages (2.2.2)\n",
      "Requirement already satisfied: lxml in /opt/conda/lib/python3.11/site-packages (5.3.0)\n",
      "Requirement already satisfied: urllib3<1.27,>=1.21.1 in /opt/conda/lib/python3.11/site-packages (from requests) (1.26.20)\n",
      "Requirement already satisfied: certifi>=2017.4.17 in /opt/conda/lib/python3.11/site-packages (from requests) (2024.6.2)\n",
      "Requirement already satisfied: charset-normalizer~=2.0.0 in /opt/conda/lib/python3.11/site-packages (from requests) (2.0.12)\n",
      "Requirement already satisfied: idna<4,>=2.5 in /opt/conda/lib/python3.11/site-packages (from requests) (3.7)\n",
      "Requirement already satisfied: soupsieve>1.2 in /opt/conda/lib/python3.11/site-packages (from beautifulsoup4) (2.5)\n",
      "Requirement already satisfied: numpy>=1.23.2 in /opt/conda/lib/python3.11/site-packages (from pandas) (2.1.1)\n",
      "Requirement already satisfied: python-dateutil>=2.8.2 in /opt/conda/lib/python3.11/site-packages (from pandas) (2.9.0)\n",
      "Requirement already satisfied: pytz>=2020.1 in /opt/conda/lib/python3.11/site-packages (from pandas) (2024.1)\n",
      "Requirement already satisfied: tzdata>=2022.7 in /opt/conda/lib/python3.11/site-packages (from pandas) (2024.1)\n",
      "Requirement already satisfied: six>=1.5 in /opt/conda/lib/python3.11/site-packages (from python-dateutil>=2.8.2->pandas) (1.16.0)\n"
     ]
    }
   ],
   "source": [
    "!pip install requests beautifulsoup4 pandas lxml"
   ]
  },
  {
   "cell_type": "markdown",
   "id": "3f4f7a23-499d-4451-8ca4-5b75005d484c",
   "metadata": {},
   "source": [
    "Import necessary package/modules"
   ]
  },
  {
   "cell_type": "code",
   "execution_count": 12,
   "id": "2f6c1e06-ae8a-4308-94e5-5139c49ca7e3",
   "metadata": {},
   "outputs": [],
   "source": [
    "import requests\n",
    "from bs4 import BeautifulSoup\n",
    "import pandas as pd"
   ]
  },
  {
   "cell_type": "code",
   "execution_count": 18,
   "id": "e235aeb1-3bb7-410d-b577-364fb1bcc4f1",
   "metadata": {},
   "outputs": [],
   "source": [
    "# Step 1: Send a request to the MacroTrends website for GameStop's revenue data\n",
    "url = 'https://finance.yahoo.com/quote/GME/financials?p=GME'\n",
    "response = requests.get(url)\n",
    "soup = BeautifulSoup(response.text, 'html.parser')"
   ]
  },
  {
   "cell_type": "code",
   "execution_count": 21,
   "id": "3d061f8f-70c3-4c08-9245-9784ab92aedc",
   "metadata": {},
   "outputs": [],
   "source": [
    "# Step 2: Find the table containing the revenue data\n",
    "# Revenue data is located within a 'historical_data_table' class\n",
    "table = soup.find_all('table')"
   ]
  },
  {
   "cell_type": "code",
   "execution_count": 22,
   "id": "9257022e-4320-4402-93da-d5326ee78865",
   "metadata": {},
   "outputs": [],
   "source": [
    "# Step 3: Extract rows of the revenue table\n",
    "rows = table[0].find_all('tr')"
   ]
  },
  {
   "cell_type": "code",
   "execution_count": 23,
   "id": "ba168e81-6b51-4b98-9404-3d29ca31d056",
   "metadata": {},
   "outputs": [],
   "source": [
    "# Step 4: Parse the rows and collect revenue data\n",
    "revenue_data = []\n",
    "for row in rows[1:]:  # Skipping the header row\n",
    "    columns = row.find_all('td')\n",
    "    date = columns[0].text.strip()\n",
    "    revenue = columns[1].text.strip()\n",
    "    revenue_data.append([date, revenue])"
   ]
  },
  {
   "cell_type": "code",
   "execution_count": 24,
   "id": "c06f1c73-a7c5-4faa-8976-249427e7e59b",
   "metadata": {},
   "outputs": [],
   "source": [
    "# Step 5: Create a DataFrame using Pandas\n",
    "gme_revenue = pd.DataFrame(revenue_data, columns=['Date', 'Revenue'])"
   ]
  },
  {
   "cell_type": "code",
   "execution_count": 25,
   "id": "db7c34ed-5c1b-49d8-9213-a1c9e75cfbd0",
   "metadata": {},
   "outputs": [],
   "source": [
    "# Step 6: Clean up the 'Revenue' column (remove commas, and convert to numeric)\n",
    "gme_revenue['Revenue'] = gme_revenue['Revenue'].str.replace(',', '').str.replace('$', '')\n",
    "gme_revenue['Revenue'] = pd.to_numeric(gme_revenue['Revenue'], errors='coerce')"
   ]
  },
  {
   "cell_type": "code",
   "execution_count": 26,
   "id": "c4984cb1-e675-4c24-8d83-62b5368cafe0",
   "metadata": {},
   "outputs": [
    {
     "name": "stdout",
     "output_type": "stream",
     "text": [
      "Empty DataFrame\n",
      "Columns: [Date, Revenue]\n",
      "Index: []\n"
     ]
    }
   ],
   "source": [
    "# Step 7: Display the last five rows using the tail function\n",
    "print(gme_revenue.tail())"
   ]
  },
  {
   "cell_type": "code",
   "execution_count": null,
   "id": "3292a7ed-f296-4866-b3d9-67fc0d32cdc0",
   "metadata": {},
   "outputs": [],
   "source": []
  }
 ],
 "metadata": {
  "kernelspec": {
   "display_name": "Python 3 (ipykernel)",
   "language": "python",
   "name": "python3"
  },
  "language_info": {
   "codemirror_mode": {
    "name": "ipython",
    "version": 3
   },
   "file_extension": ".py",
   "mimetype": "text/x-python",
   "name": "python",
   "nbconvert_exporter": "python",
   "pygments_lexer": "ipython3",
   "version": "3.11.9"
  }
 },
 "nbformat": 4,
 "nbformat_minor": 5
}
