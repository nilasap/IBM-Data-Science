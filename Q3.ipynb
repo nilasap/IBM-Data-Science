{
 "cells": [
  {
   "cell_type": "code",
   "execution_count": 1,
   "id": "a68e5a64-4676-4f72-90f1-475021b4d69c",
   "metadata": {},
   "outputs": [
    {
     "name": "stderr",
     "output_type": "stream",
     "text": [
      "[*********************100%***********************]  1 of 1 completed"
     ]
    },
    {
     "name": "stdout",
     "output_type": "stream",
     "text": [
      "     Open    High     Low   Close  Adj Close    Volume\n",
      "0  1.5350  1.6175  1.5175  1.5775     1.5775  17814400\n",
      "1  1.5525  1.5625  1.4600  1.4700     1.4700  14175600\n",
      "2  1.4500  1.4775  1.4000  1.4625     1.4625  13579200\n",
      "3  1.4425  1.4575  1.3600  1.3800     1.3800  20912000\n",
      "4  1.3725  1.4625  1.3525  1.4300     1.4300  22517600\n"
     ]
    },
    {
     "name": "stderr",
     "output_type": "stream",
     "text": [
      "\n"
     ]
    }
   ],
   "source": [
    "# Install yfinance if not already installed\n",
    "# !pip install yfinance\n",
    "\n",
    "import yfinance as yf\n",
    "\n",
    "# Step 1: Download stock data\n",
    "# You can change 'TSLA' (Tesla) to any other stock symbol like 'GME' (GameStop)\n",
    "stock_symbol = 'GME'  # Change this to any stock you want, e.g., 'TSLA' for Tesla\n",
    "gme_data = yf.download(stock_symbol, start='2020-01-01', end='2024-01-01')\n",
    "\n",
    "# Step 2: Reset the index of the dataframe\n",
    "gme_data_reset = gme_data.reset_index(drop=True)\n",
    "\n",
    "# Step 3: Display the first five rows\n",
    "print(gme_data_reset.head())"
   ]
  },
  {
   "cell_type": "code",
   "execution_count": null,
   "id": "9032a269-55f1-4db2-be61-ba80ffe4631b",
   "metadata": {},
   "outputs": [],
   "source": []
  }
 ],
 "metadata": {
  "kernelspec": {
   "display_name": "Python 3 (ipykernel)",
   "language": "python",
   "name": "python3"
  },
  "language_info": {
   "codemirror_mode": {
    "name": "ipython",
    "version": 3
   },
   "file_extension": ".py",
   "mimetype": "text/x-python",
   "name": "python",
   "nbconvert_exporter": "python",
   "pygments_lexer": "ipython3",
   "version": "3.11.9"
  }
 },
 "nbformat": 4,
 "nbformat_minor": 5
}
